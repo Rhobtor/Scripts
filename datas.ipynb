{
 "cells": [
  {
   "cell_type": "code",
   "execution_count": 1,
   "metadata": {},
   "outputs": [],
   "source": [
    "import mysql.connector"
   ]
  },
  {
   "cell_type": "code",
   "execution_count": 11,
   "metadata": {},
   "outputs": [
    {
     "name": "stdout",
     "output_type": "stream",
     "text": [
      "                    Date  Latitude_Drone  Longitude_Drone  Latitude_Obj  \\\n",
      "0    2024-05-14 12:21:52       37.419176        -5.998999     37.419161   \n",
      "1    2024-05-14 12:21:17       37.419183        -5.999006     37.419209   \n",
      "2    2024-05-14 12:21:16       37.419183        -5.999006     37.419212   \n",
      "3    2024-05-14 12:21:15       37.419184        -5.999008     37.419215   \n",
      "4    2024-05-14 12:21:15       37.419183        -5.999007     37.419212   \n",
      "...                  ...             ...              ...           ...   \n",
      "3926 2024-05-09 10:27:36       37.410908        -6.002759     37.410907   \n",
      "3927 2024-05-09 10:27:35       37.410908        -6.002759     37.410915   \n",
      "3928 2024-05-09 10:27:34       37.410908        -6.002759     37.410918   \n",
      "3929 2024-05-09 10:27:32       37.410908        -6.002759     37.410888   \n",
      "3930 2024-05-09 10:27:31       37.410908        -6.002759     37.410907   \n",
      "\n",
      "      Longitude_Obj  Heading_Drone  Heading_Obj  ASV  \n",
      "0         -5.998964         130.52   117.267691    1  \n",
      "1         -5.998897         112.95    72.953883    1  \n",
      "2         -5.998905         109.30    70.302048    1  \n",
      "3         -5.998918         102.74    66.229895    1  \n",
      "4         -5.998913         106.74    68.899648    1  \n",
      "...             ...            ...          ...  ...  \n",
      "3926      -6.002744          55.00    91.929900    1  \n",
      "3927      -6.002751          55.00    42.109014    1  \n",
      "3928      -6.002712          55.00    74.925008    1  \n",
      "3929      -6.002622          55.00   100.098374    1  \n",
      "3930      -6.002743          55.00    91.929900    1  \n",
      "\n",
      "[3931 rows x 8 columns]\n"
     ]
    },
    {
     "name": "stderr",
     "output_type": "stream",
     "text": [
      "/tmp/ipykernel_20325/1753115850.py:9: UserWarning: pandas only supports SQLAlchemy connectable (engine/connection) or database string URI or sqlite3 DBAPI2 connection. Other DBAPI2 objects are not tested. Please consider using SQLAlchemy.\n",
      "  df = pd.read_sql(query , conn)\n"
     ]
    }
   ],
   "source": [
    "import MySQLdb\n",
    "import pandas as pd\n",
    "\n",
    "conn = MySQLdb.connect(host='golem.us.es', port=6006 , user='root', passwd='azkenmugaÑ.', db='wqp' )\n",
    "cursor = conn.cursor()\n",
    "\n",
    "#query = cursor.execute('Select * FROM OBJECT_POSITION ORDER BY Date DESC;')\n",
    "query= 'Select * FROM OBJECT_POSITION ORDER BY Date DESC;'\n",
    "df = pd.read_sql(query , conn)\n",
    "\n",
    "print(df)\n"
   ]
  },
  {
   "cell_type": "code",
   "execution_count": 13,
   "metadata": {},
   "outputs": [
    {
     "name": "stdout",
     "output_type": "stream",
     "text": [
      "                   Date  Latitude_Drone  Longitude_Drone  Latitude_Obj  \\\n",
      "0   2024-05-14 12:21:52       37.419176        -5.998999     37.419161   \n",
      "1   2024-05-14 12:21:17       37.419183        -5.999006     37.419209   \n",
      "2   2024-05-14 12:21:16       37.419183        -5.999006     37.419212   \n",
      "3   2024-05-14 12:21:15       37.419184        -5.999008     37.419215   \n",
      "4   2024-05-14 12:21:15       37.419183        -5.999007     37.419212   \n",
      "..                  ...             ...              ...           ...   \n",
      "463 2024-05-14 11:50:19       37.419138        -5.999028     37.419184   \n",
      "464 2024-05-14 11:50:17       37.419134        -5.999025     37.419189   \n",
      "465 2024-05-14 11:50:17       37.419135        -5.999026     37.419188   \n",
      "466 2024-05-14 11:50:15       37.419131        -5.999023     37.419191   \n",
      "467 2024-05-14 11:50:14       37.419124        -5.999016     37.419198   \n",
      "\n",
      "     Longitude_Obj  Heading_Drone  Heading_Obj  ASV  \n",
      "0        -5.998964         130.52   117.267691    1  \n",
      "1        -5.998897         112.95    72.953883    1  \n",
      "2        -5.998905         109.30    70.302048    1  \n",
      "3        -5.998918         102.74    66.229895    1  \n",
      "4        -5.998913         106.74    68.899648    1  \n",
      "..             ...            ...          ...  ...  \n",
      "463      -5.999085         339.33   315.214747    1  \n",
      "464      -5.999083         333.69   320.041261    1  \n",
      "465      -5.999084         335.19   318.805090    1  \n",
      "466      -5.999082         328.84   321.876864    1  \n",
      "467      -5.999084         322.07   323.454280    1  \n",
      "\n",
      "[468 rows x 8 columns]\n"
     ]
    }
   ],
   "source": [
    "df['Date'] = pd.to_datetime(df['Date'])\n",
    "df_trash = df[~(df['Date'] < '2024-05-14')]\n",
    "\n",
    "print(df_trash)"
   ]
  },
  {
   "cell_type": "code",
   "execution_count": null,
   "metadata": {},
   "outputs": [],
   "source": []
  },
  {
   "cell_type": "code",
   "execution_count": null,
   "metadata": {},
   "outputs": [],
   "source": []
  }
 ],
 "metadata": {
  "kernelspec": {
   "display_name": "Python 3",
   "language": "python",
   "name": "python3"
  },
  "language_info": {
   "codemirror_mode": {
    "name": "ipython",
    "version": 3
   },
   "file_extension": ".py",
   "mimetype": "text/x-python",
   "name": "python",
   "nbconvert_exporter": "python",
   "pygments_lexer": "ipython3",
   "version": "3.10.12"
  }
 },
 "nbformat": 4,
 "nbformat_minor": 2
}
